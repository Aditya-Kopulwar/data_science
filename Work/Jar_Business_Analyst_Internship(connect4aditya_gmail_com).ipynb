{
  "cells": [
    {
      "cell_type": "markdown",
      "metadata": {
        "id": "view-in-github",
        "colab_type": "text"
      },
      "source": [
        "<a href=\"https://colab.research.google.com/github/Aditya-Kopulwar/data_science/blob/main/Work/Jar_Business_Analyst_Internship(connect4aditya_gmail_com).ipynb\" target=\"_parent\"><img src=\"https://colab.research.google.com/assets/colab-badge.svg\" alt=\"Open In Colab\"/></a>"
      ]
    },
    {
      "cell_type": "markdown",
      "metadata": {
        "id": "Eupp1nwNhimx"
      },
      "source": [
        "**1. Walmart Sales Analysis:\n",
        "You have been given a data set to analyse and answer the following questions: Please\n",
        "note: You have to use Python to answer the questions.\n",
        "Data Set: Walmart Sales [Kindly find an attached copy in the email]\n",
        "A. Analyze the performance of sales and revenue at the city and branch level ( 5 marks)\n",
        "B. What is the average price of an item sold at each branch of the city (10 marks)\n",
        "C. Analyze the performance of sales and revenue, Month over Month across the Product\n",
        "line, Gender, and Payment Method, and identify the focus areas to get better sales for\n",
        "April 2019. (15 marks)**"
      ]
    },
    {
      "cell_type": "markdown",
      "metadata": {
        "id": "UASystyqhimz"
      },
      "source": [
        "## Attaching Resources"
      ]
    },
    {
      "cell_type": "markdown",
      "metadata": {
        "id": "uplsel0bhim0"
      },
      "source": [
        "### Importing Necessary Libraries"
      ]
    },
    {
      "cell_type": "code",
      "execution_count": 7,
      "metadata": {
        "id": "Hg4pPB_Khim0"
      },
      "outputs": [],
      "source": [
        "import numpy as np\n",
        "import pandas as pd\n",
        "import matplotlib.pyplot as plt\n",
        "import seaborn as sns\n",
        "import plotly.express as pe\n",
        "import statsmodels.formula.api as smf\n",
        "import statsmodels.api as sm\n",
        "from statsmodels.graphics.regressionplots import influence_plot\n",
        "import warnings\n",
        "\n",
        "warnings.filterwarnings('ignore')"
      ]
    },
    {
      "cell_type": "markdown",
      "metadata": {
        "id": "nlJsTveahim7"
      },
      "source": [
        "### Adding Dataset"
      ]
    },
    {
      "cell_type": "code",
      "execution_count": 8,
      "metadata": {
        "id": "5N60tZgkhim8",
        "colab": {
          "base_uri": "https://localhost:8080/"
        },
        "outputId": "e35420d3-e13f-4bdb-d0f5-9677e5149698"
      },
      "outputs": [
        {
          "output_type": "stream",
          "name": "stdout",
          "text": [
            "    Invoice ID Branch       City Customer type  Gender  \\\n",
            "0  750-67-8428      A     Yangon        Member  Female   \n",
            "1  226-31-3081      A  Naypyitaw        Normal  Female   \n",
            "2  631-41-3108      A     Yangon        Normal    Male   \n",
            "3  123-19-1176      B     Yangon        Member    Male   \n",
            "4  373-73-7910      C     Yangon        Normal    Male   \n",
            "\n",
            "             Product line  Unit price  Quantity       Date      Time  \\\n",
            "0       Health and beauty       74.69         7   1/5/2019  13:08:00   \n",
            "1  Electronic accessories       15.28         5   3/8/2019  10:29:00   \n",
            "2      Home and lifestyle       46.33         7   3/3/2019  13:23:00   \n",
            "3       Health and beauty       58.22         8  1/27/2019  20:33:00   \n",
            "4       Sports and travel       86.31         7   2/8/2019  10:37:00   \n",
            "\n",
            "       Payment  Rating  \n",
            "0      Ewallet     9.1  \n",
            "1         Cash     9.6  \n",
            "2  Credit card     7.4  \n",
            "3      Ewallet     8.4  \n",
            "4      Ewallet     5.3  \n"
          ]
        }
      ],
      "source": [
        "\n",
        "\n",
        "# Load the dataset\n",
        "url = \"https://raw.githubusercontent.com/Aditya-Kopulwar/data_science/main/Datasets/Walmart%20Sales.xlsx\"\n",
        "df = pd.read_excel(url)\n",
        "\n",
        "# Display the first few rows of the dataset to understand its structure\n",
        "print(df.head())\n"
      ]
    },
    {
      "cell_type": "code",
      "source": [
        "print(df.columns)\n"
      ],
      "metadata": {
        "colab": {
          "base_uri": "https://localhost:8080/"
        },
        "id": "4-ICTMjLy1oz",
        "outputId": "08798f7c-70b4-47cd-8120-7d57266d9a49"
      },
      "execution_count": 21,
      "outputs": [
        {
          "output_type": "stream",
          "name": "stdout",
          "text": [
            "Index(['Invoice ID', 'Branch', 'City', 'Customer type', 'Gender',\n",
            "       'Product line', 'Unit price', 'Quantity', 'Date', 'Time', 'Payment',\n",
            "       'Rating', 'Total Sales', 'Total Revenue', 'Month', 'Year'],\n",
            "      dtype='object')\n"
          ]
        }
      ]
    },
    {
      "cell_type": "markdown",
      "source": [
        "**A. Analyze the performance of sales and revenue at the city and branch level ( 5 marks)**"
      ],
      "metadata": {
        "id": "Zfrq2dCKx77w"
      }
    },
    {
      "cell_type": "code",
      "source": [
        "# Calculate Total Sales and Total Revenue\n",
        "df['Total Sales'] = df['Unit price'] * df['Quantity']\n",
        "df['Total Revenue'] = df['Total Sales']\n",
        "\n",
        "# Group by city and branch, calculate total sales and revenue\n",
        "city_branch_sales_revenue = df.groupby(['City', 'Branch'])[['Total Sales', 'Total Revenue']].sum()\n",
        "\n",
        "print(city_branch_sales_revenue)\n"
      ],
      "metadata": {
        "colab": {
          "base_uri": "https://localhost:8080/"
        },
        "id": "Oi2XLNNsyyp9",
        "outputId": "9b49f046-1b70-4e33-83e9-726b15fc0e31"
      },
      "execution_count": 12,
      "outputs": [
        {
          "output_type": "stream",
          "name": "stdout",
          "text": [
            "                  Total Sales  Total Revenue\n",
            "City      Branch                            \n",
            "Mandalay  A          34130.09       34130.09\n",
            "          B          37215.93       37215.93\n",
            "          C          29794.62       29794.62\n",
            "Naypyitaw A          35985.64       35985.64\n",
            "          B          35157.75       35157.75\n",
            "          C          34160.14       34160.14\n",
            "Yangon    A          33647.27       33647.27\n",
            "          B          35193.51       35193.51\n",
            "          C          32302.43       32302.43\n"
          ]
        }
      ]
    },
    {
      "cell_type": "markdown",
      "source": [
        "**B. What is the average price of an item sold at each branch of the city (10 marks)**"
      ],
      "metadata": {
        "id": "qsW7KEvhzPhx"
      }
    },
    {
      "cell_type": "code",
      "source": [
        "# Group by city and branch, calculate average price\n",
        "average_price_per_branch = df.groupby(['City', 'Branch'])['Unit price'].mean()\n",
        "\n",
        "print(average_price_per_branch)\n"
      ],
      "metadata": {
        "colab": {
          "base_uri": "https://localhost:8080/"
        },
        "id": "hfRXqPaRzSfd",
        "outputId": "8253fa19-fbe6-4fe4-f104-effee4e72593"
      },
      "execution_count": 13,
      "outputs": [
        {
          "output_type": "stream",
          "name": "stdout",
          "text": [
            "City       Branch\n",
            "Mandalay   A         53.353866\n",
            "           B         56.133305\n",
            "           C         57.958316\n",
            "Naypyitaw  A         54.123182\n",
            "           B         57.785688\n",
            "           C         57.941009\n",
            "Yangon     A         55.639298\n",
            "           B         56.011062\n",
            "           C         52.684602\n",
            "Name: Unit price, dtype: float64\n"
          ]
        }
      ]
    },
    {
      "cell_type": "markdown",
      "source": [
        "**C. Analyze the performance of sales and revenue, Month over Month across the Product line, Gender, and Payment Method, and identify the focus areas to get better sales for April 2019.(15 marks)**"
      ],
      "metadata": {
        "id": "bvK6Fgeizq9F"
      }
    },
    {
      "cell_type": "code",
      "source": [
        "# Check the data type of the 'Date' column\n",
        "print(df['Date'].dtype)\n"
      ],
      "metadata": {
        "colab": {
          "base_uri": "https://localhost:8080/"
        },
        "id": "lLZ1M1tvzuBh",
        "outputId": "3b8f31f4-e388-4fb7-df43-135f860d2f7e"
      },
      "execution_count": 15,
      "outputs": [
        {
          "output_type": "stream",
          "name": "stdout",
          "text": [
            "object\n"
          ]
        }
      ]
    },
    {
      "cell_type": "code",
      "source": [
        "# Convert 'Date' column to datetime\n",
        "df['Date'] = pd.to_datetime(df['Date'])\n",
        "\n",
        "# Extract month and year from the 'Date' column\n",
        "df['Month'] = df['Date'].dt.month\n",
        "df['Year'] = df['Date'].dt.year\n",
        "\n",
        "\n"
      ],
      "metadata": {
        "id": "xBRAsg0ezwaG"
      },
      "execution_count": 24,
      "outputs": []
    },
    {
      "cell_type": "code",
      "source": [
        "# Extract month and year from the 'Date' column\n",
        "df['Month'] = df['Date'].dt.month\n",
        "df['Year'] = df['Date'].dt.year\n",
        "\n",
        "# Group by Month, Product line, Gender, and Payment Method, calculate total sales and revenue\n",
        "monthly_performance = df.groupby(['Year', 'Month', 'Product line', 'Gender', 'Payment'])[['Total Sales', 'Total Revenue']].sum()\n",
        "\n",
        "print(monthly_performance)\n"
      ],
      "metadata": {
        "colab": {
          "base_uri": "https://localhost:8080/"
        },
        "id": "Rl5iy4fD0bvV",
        "outputId": "a602a16c-c6da-45f1-f22b-8dcecae78a0e"
      },
      "execution_count": 25,
      "outputs": [
        {
          "output_type": "stream",
          "name": "stdout",
          "text": [
            "                                                      Total Sales  \\\n",
            "Year Month Product line           Gender Payment                    \n",
            "2019 1     Electronic accessories Female Cash             2731.86   \n",
            "                                         Credit card      3045.42   \n",
            "                                         Ewallet          1576.48   \n",
            "                                  Male   Cash             3380.29   \n",
            "                                         Credit card      2248.65   \n",
            "...                                                           ...   \n",
            "     3     Sports and travel      Female Credit card      2863.86   \n",
            "                                         Ewallet          3398.57   \n",
            "                                  Male   Cash             2084.19   \n",
            "                                         Credit card      3633.90   \n",
            "                                         Ewallet          4930.61   \n",
            "\n",
            "                                                      Total Revenue  \n",
            "Year Month Product line           Gender Payment                     \n",
            "2019 1     Electronic accessories Female Cash               2731.86  \n",
            "                                         Credit card        3045.42  \n",
            "                                         Ewallet            1576.48  \n",
            "                                  Male   Cash               3380.29  \n",
            "                                         Credit card        2248.65  \n",
            "...                                                             ...  \n",
            "     3     Sports and travel      Female Credit card        2863.86  \n",
            "                                         Ewallet            3398.57  \n",
            "                                  Male   Cash               2084.19  \n",
            "                                         Credit card        3633.90  \n",
            "                                         Ewallet            4930.61  \n",
            "\n",
            "[108 rows x 2 columns]\n"
          ]
        }
      ]
    },
    {
      "cell_type": "markdown",
      "source": [
        "\n",
        "It seems there are no records for April 2019 in the dataset. Without data for April 2019, we cannot analyze the performance for that specific month."
      ],
      "metadata": {
        "id": "YTX67jUU2Ol-"
      }
    },
    {
      "cell_type": "code",
      "source": [
        "# Check if there are any records for April 2019\n",
        "april_2019_records = df[(df['Month'] == 4) & (df['Year'] == 2019)]\n",
        "print(april_2019_records)\n"
      ],
      "metadata": {
        "colab": {
          "base_uri": "https://localhost:8080/"
        },
        "id": "jbub_XhW2Qor",
        "outputId": "4a4b8257-4c93-48c0-830e-0e96159bb85a"
      },
      "execution_count": 26,
      "outputs": [
        {
          "output_type": "stream",
          "name": "stdout",
          "text": [
            "Empty DataFrame\n",
            "Columns: [Invoice ID, Branch, City, Customer type, Gender, Product line, Unit price, Quantity, Date, Time, Payment, Rating, Total Sales, Total Revenue, Month, Year]\n",
            "Index: []\n"
          ]
        }
      ]
    },
    {
      "cell_type": "markdown",
      "source": [
        "**2. App Exploration: (5 marks)\n",
        "Explore the features and user experience of the Jar app. Identify two aspects that you think\n",
        "could be significantly improved and explain your reasoning behind each suggestion.**"
      ],
      "metadata": {
        "id": "2FM9gIw-3ysk"
      }
    },
    {
      "cell_type": "markdown",
      "source": [
        "here are two aspects that could be significantly improved:\n",
        "\n",
        "Onboarding Experience:\n",
        "Current State: While the redesign process mentioned analyzing and iterating on the solution, there isn't detailed information about the onboarding experience. A good onboarding experience is crucial for new users to understand the app's features and value proposition.\n",
        "Potential Improvement: Enhance the onboarding experience to educate users about the app's key features, such as automatic savings through spare change from online transactions, investment in digital gold, and redemption options. This could include:\n",
        "Interactive tutorials or walkthroughs that demonstrate how the app works and its benefits.\n",
        "Clear and concise explanations of how users can set up auto-investments and redeem their digital gold.\n",
        "Personalized onboarding based on user preferences or financial goals to make the experience more relevant.\n",
        "Reasoning: Improving the onboarding experience can help new users understand the app's value proposition and functionality, increasing the likelihood of them becoming regular users. It can also reduce user frustration and confusion, leading to higher retention rates.\n",
        "Navigation and Information Architecture:\n",
        "Current State: While the redesign process mentioned analyzing the existing design, there isn't detailed information about navigation and information architecture improvements. Clear navigation and well-organized content are essential for users to easily find what they need within the app.\n",
        "Potential Improvement: Streamline navigation and information architecture to make it easier for users to access features and content. This could include:\n",
        "Simplifying menu structures and categorizing content logically to reduce cognitive load.\n",
        "Implementing search functionality to allow users to quickly find specific features or information.\n",
        "Providing clear navigation paths and signposts to guide users through the app.\n",
        "Reasoning: Improving navigation and information architecture can enhance user satisfaction and usability. It can help users efficiently navigate the app, find relevant information, and accomplish their financial goals, ultimately leading to higher engagement and retention rates.\n",
        "By focusing on improving the onboarding experience and navigation/information architecture, the Jar app can enhance user satisfaction, increase retention rates, and ultimately drive long-term success. These improvements align with the goal of reintroducing the concept of piggy banks to the current generation and helping users develop a habit of daily savings."
      ],
      "metadata": {
        "id": "Pet5yife3zye"
      }
    },
    {
      "cell_type": "markdown",
      "source": [
        "**3. Product Optimisation: (5 marks)\n",
        "The Jar app has an engagement feature called 'Spin to Win'.\n",
        "Right now, if 100 people come to the app each day, only 23 of them try out this spinning game.\n",
        "But, we know that people who spin are more likely to retain on the app and do transactions.\n",
        "Now, we want to get more people to play the game. So, the question is, how can we make sure\n",
        "that at least 50 people out of every 100 who visit the app each day will play 'Spin to Win'? What\n",
        "can we do to get more people interested in spinning the wheel?**"
      ],
      "metadata": {
        "id": "oqeqvv5y4KuV"
      }
    },
    {
      "cell_type": "markdown",
      "source": [
        "To increase the engagement with the 'Spin to Win' feature in the Jar app and ensure that at least 50 out of every 100 visitors play the game, we can implement the following strategies:\n",
        "\n",
        "Prominent Placement and Visual Appeal:\n",
        "Ensure that the 'Spin to Win' feature is prominently displayed on the app's home screen or main menu. Use eye-catching visuals, such as colorful graphics or animations, to draw users' attention to the feature.\n",
        "Consider using gamification elements, such as a visually appealing spinning wheel or animated effects, to make the feature more interactive and engaging.\n",
        "Incentives and Rewards:\n",
        "Offer attractive incentives or rewards for playing the game, such as bonus points, discounts, or exclusive offers. Highlight these rewards prominently to incentivize users to participate.\n",
        "Implement a tiered reward system where users can unlock higher-value rewards by spinning the wheel regularly or achieving certain milestones. This can encourage repeat engagement with the feature.\n",
        "Limited-Time Events and Special Offers:\n",
        "Introduce limited-time events or special offers tied to the 'Spin to Win' feature, such as themed promotions or holiday-themed prizes. Create a sense of urgency and excitement to motivate users to participate.\n",
        "Notify users about these events through push notifications or in-app messages to encourage them to visit the app and spin the wheel.\n",
        "Social Sharing and Referral Program:\n",
        "Implement social sharing functionality that allows users to share their spin results or invite friends to play the game. Offer incentives, such as bonus spins or rewards, for users who refer friends to the app and participate in the 'Spin to Win' feature.\n",
        "Leverage social media channels to promote the feature and encourage user engagement. Share user success stories or testimonials to showcase the benefits of playing the game.\n",
        "Personalization and Targeted Messaging:\n",
        "Use data analytics and user segmentation to personalize the 'Spin to Win' experience based on users' preferences, behavior, and transaction history. Tailor messaging and rewards to align with each user's interests and motivations.\n",
        "Send targeted push notifications or emails to users who have not yet tried the feature or who may be more likely to engage based on their past interactions with the app.\n",
        "Continuous Optimization and A/B Testing:\n",
        "Continuously monitor user engagement metrics and conduct A/B testing to identify which design elements, messaging strategies, or incentives resonate most with users. Use this data to iteratively optimize the 'Spin to Win' feature and maximize its effectiveness in driving user engagement.\n",
        "By implementing these strategies, the Jar app can increase user engagement with the 'Spin to Win' feature and achieve the goal of having at least 50 out of every 100 visitors play the game. These approaches leverage principles of gamification, incentivization, social sharing, personalization, and continuous optimization to enhance user participation and retention.\n",
        "\n",
        "\n",
        "\n",
        "\n",
        "\n",
        "\n"
      ],
      "metadata": {
        "id": "NdsSPnur4bXl"
      }
    },
    {
      "cell_type": "code",
      "source": [],
      "metadata": {
        "id": "398khSuS4cT9"
      },
      "execution_count": null,
      "outputs": []
    }
  ],
  "metadata": {
    "kernelspec": {
      "display_name": "base",
      "language": "python",
      "name": "python3"
    },
    "language_info": {
      "codemirror_mode": {
        "name": "ipython",
        "version": 3
      },
      "file_extension": ".py",
      "mimetype": "text/x-python",
      "name": "python",
      "nbconvert_exporter": "python",
      "pygments_lexer": "ipython3",
      "version": "3.9.13"
    },
    "orig_nbformat": 4,
    "colab": {
      "provenance": [],
      "include_colab_link": true
    }
  },
  "nbformat": 4,
  "nbformat_minor": 0
}